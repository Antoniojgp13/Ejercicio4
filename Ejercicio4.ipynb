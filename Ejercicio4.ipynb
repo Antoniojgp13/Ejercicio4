{
 "cells": [
  {
   "cell_type": "code",
   "execution_count": null,
   "metadata": {},
   "outputs": [],
   "source": []
  },
  {
   "cell_type": "code",
   "execution_count": 74,
   "metadata": {},
   "outputs": [
    {
     "name": "stdout",
     "output_type": "stream",
     "text": [
      "Seleccione entre los rios Ebro,Tajo,Duero,Guadiana,Guadalquivir,Miño,Segura,Jucar: Ebro\n",
      "\n",
      "Ha seleccionado Ebro \n",
      "Interte la cantidad que desea eliminar: 123\n",
      "Interte el nombre del nuevo trasvase: Gato\n",
      "\n",
      "Se quitarían 123 m3/s al caudal 426m3/s, de manera que quedarían 303\n"
     ]
    },
    {
     "data": {
      "image/png": "[encoded data removed]",
      "text/plain": [
       "<Figure size 432x288 with 1 Axes>"
      ]
     },
     "metadata": {
      "needs_background": "light"
     },
     "output_type": "display_data"
    }
   ],
   "source": [
    "import pymongo \n",
    "import pandas as pd\n",
    "from pymongo import MongoClient\n",
    "client = MongoClient( 'localhost:27017')\n",
    "db = client['rios']\n",
    "rios = db.rios\n",
    "rios=pd.DataFrame(list(rios.find()))\n",
    "\n",
    "seleccionRio=str(input(\"Seleccione entre los rios Ebro,Tajo,Duero,Guadiana,Guadalquivir,Miño,Segura,Jucar: \"))\n",
    "print (f\"\\nHa seleccionado {seleccionRio} \")\n",
    "\n",
    "\n",
    "\n",
    "if seleccionRio=='Ebro':\n",
    "    \n",
    "    cantidadCaudalQuitar=int(input(\"Interte la cantidad que desea eliminar: \"))\n",
    "    \n",
    "    nombreTrasbase=str(input(\"Interte el nombre del nuevo trasvase: \"))\n",
    "    \n",
    "    rioSeleccionadoOrigen=(rios.loc[rios['nombre']==seleccionRio])\n",
    "    riorioSeleccionadoRecortado=rioSeleccionadoOrigen[['caudal','nombre']]\n",
    "    caudal=rioSeleccionadoOrigen['caudal'].min()\n",
    "    caudal1=caudal.split('m3/s')[0]\n",
    "    caudalFinal=int(caudal1)-int(cantidadCaudalQuitar)\n",
    "    porcentajeCaudal=((int(cantidadCaudalQuitar)*100)/int(caudal1))\n",
    "    if porcentajeCaudal >= 50:\n",
    "        print ('NO se puede superar el 20%')\n",
    "    else:\n",
    "        print(f\"\\nSe quitarían {cantidadCaudalQuitar} m3/s al caudal {caudal}, de manera que quedarían {caudalFinal}\")\n",
    "        rioNuevo={'caudal':[cantidadCaudalQuitar],'nombre':[nombreTrasbase]}\n",
    "        df=pd.DataFrame(data=rioNuevo)\n",
    "\n",
    "        rioSeleccionadoOrigenNuevo={'caudal':[caudalFinal],'nombre':[seleccionRio]}\n",
    "        df2=pd.DataFrame(data=rioSeleccionadoOrigenNuevo)\n",
    "\n",
    "        comparacionRioYTrasvase=pd.concat([df,df2],ignore_index=True,sort=True)\n",
    "        comparacionRioYTrasvase.plot(kind='bar',y='caudal',x='nombre').set_title(f\"\\n{nombreTrasbase} vs {seleccionRio}\")\n",
    "\n",
    "   \n",
    "        \n",
    "   \n"
   ]
  },
  {
   "cell_type": "code",
   "execution_count": 72,
   "metadata": {},
   "outputs": [
    {
     "name": "stdout",
     "output_type": "stream",
     "text": [
      "20.0\n"
     ]
    }
   ],
   "source": [
    "gato=int(2)\n",
    "gato2=int(10)\n",
    "print((gato*100)/gato2)"
   ]
  },
  {
   "cell_type": "code",
   "execution_count": null,
   "metadata": {},
   "outputs": [],
   "source": []
  }
 ],
 "metadata": {
  "kernelspec": {
   "display_name": "Python 3",
   "language": "python",
   "name": "python3"
  },
  "language_info": {
   "codemirror_mode": {
    "name": "ipython",
    "version": 3
   },
   "file_extension": ".py",
   "mimetype": "text/x-python",
   "name": "python",
   "nbconvert_exporter": "python",
   "pygments_lexer": "ipython3",
   "version": "3.7.0"
  }
 },
 "nbformat": 4,
 "nbformat_minor": 2
}
